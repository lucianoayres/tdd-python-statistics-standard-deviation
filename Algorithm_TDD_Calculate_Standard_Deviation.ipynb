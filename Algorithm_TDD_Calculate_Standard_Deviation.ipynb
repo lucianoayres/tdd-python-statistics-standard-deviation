{
  "nbformat": 4,
  "nbformat_minor": 0,
  "metadata": {
    "colab": {
      "provenance": [],
      "authorship_tag": "ABX9TyO1OiBqY+yOJlhh+sl0oF2E",
      "include_colab_link": true
    },
    "kernelspec": {
      "name": "python3",
      "display_name": "Python 3"
    },
    "language_info": {
      "name": "python"
    }
  },
  "cells": [
    {
      "cell_type": "markdown",
      "metadata": {
        "id": "view-in-github",
        "colab_type": "text"
      },
      "source": [
        "<a href=\"https://colab.research.google.com/github/lucianoayres/tdd-python-statistics-standard-deviation/blob/main/Algorithm_TDD_Calculate_Standard_Deviation.ipynb\" target=\"_parent\"><img src=\"https://colab.research.google.com/assets/colab-badge.svg\" alt=\"Open In Colab\"/></a>"
      ]
    },
    {
      "cell_type": "markdown",
      "source": [
        "# Standard Deviation (Desvio Padrão)\n",
        "\n",
        "The standard deviation is a statistical measure that indicates how much the values in a dataset are spread out around the mean of that dataset. In other words, it shows how far the data points are from the mean.\n",
        "\n",
        "To calculate the standard deviation, you follow these steps:\n",
        "\n",
        "1. Calculate the mean of the numbers.\n",
        "2. Subtract the mean from each number to find the difference.\n",
        "3. Square each difference.\n",
        "4. Calculate the mean of these squares.\n",
        "5. Take the square root of this mean.\n",
        "\n",
        "Here's a simple example:\n",
        "\n",
        "Let's say you have the following set of numbers: 2, 4, 4, 4, 5, 5, 7, 9.\n",
        "\n",
        "Step 1: Calculate the mean.\n",
        "Mean = (2 + 4 + 4 + 4 + 5 + 5 + 7 + 9) / 8 = 40 / 8 = 5.\n",
        "\n",
        "Step 2: Subtract the mean from each number.\n",
        "Differences: (-3, -1, -1, -1, 0, 0, 2, 4).\n",
        "\n",
        "Step 3: Square each difference.\n",
        "Squares: (9, 1, 1, 1, 0, 0, 4, 16).\n",
        "\n",
        "Step 4: Calculate the mean of these squares.\n",
        "Mean of squares = (9 + 1 + 1 + 1 + 0 + 0 + 4 + 16) / 8 = 32 / 8 = 4.\n",
        "\n",
        "Step 5: Take the square root of this mean.\n",
        "Standard deviation = √4 = 2.\n",
        "\n",
        "Therefore, the standard deviation of this set of numbers is 2. This indicates that, on average, each number is approximately 2 units away from the mean."
      ],
      "metadata": {
        "id": "Av3Q4TkQfJMQ"
      }
    },
    {
      "cell_type": "code",
      "execution_count": 2,
      "metadata": {
        "id": "8fuMAkVl6I_s"
      },
      "outputs": [],
      "source": [
        "# calculate mean function\n",
        "def calculate_mean(number_list):\n",
        "  list_lenght = len(number_list)\n",
        "  if (list_lenght) == 0:\n",
        "    return 0\n",
        "  else:\n",
        "    list_sum = sum(number_list)\n",
        "    return list_sum / list_lenght"
      ]
    },
    {
      "cell_type": "code",
      "source": [
        "# test cases\n",
        "import unittest\n",
        "\n",
        "class TestCalculateMean(unittest.TestCase):\n",
        "  def test_empty_list(self):\n",
        "    self.assertEqual(calculate_mean([]), 0)\n",
        "\n",
        "  def test_single_element(self):\n",
        "    self.assertEqual(calculate_mean([5]), 5.0)\n",
        "\n",
        "  def test_positive_numbers(self):\n",
        "    self.assertEqual(calculate_mean([1, 2, 3, 4, 5]), 3.0)\n",
        "\n",
        "  def test_negative_numbers(self):\n",
        "    self.assertEqual(calculate_mean([-1, -2, -3, -4, -5]), -3.0)\n",
        "\n",
        "  def test_mixed_numbers(self):\n",
        "    self.assertEqual(calculate_mean([-1, 0, 1]), 0.0)\n",
        "\n",
        "  def test_float_numbers(self):\n",
        "    self.assertAlmostEqual(calculate_mean([1.5, 2.5, 3.5]), 2.5)\n",
        "\n",
        "if __name__ == '__main__':\n",
        "    unittest.main(argv=[''], exit=False)"
      ],
      "metadata": {
        "colab": {
          "base_uri": "https://localhost:8080/"
        },
        "id": "whCNoi4_7Qv_",
        "outputId": "23ed92ec-738c-4f70-b314-d6bcce8dde79"
      },
      "execution_count": 3,
      "outputs": [
        {
          "output_type": "stream",
          "name": "stderr",
          "text": [
            "......\n",
            "----------------------------------------------------------------------\n",
            "Ran 6 tests in 0.018s\n",
            "\n",
            "OK\n"
          ]
        }
      ]
    },
    {
      "cell_type": "code",
      "source": [
        "# subtract number from list function\n",
        "def subtract_number_from_list(number, number_list):\n",
        "  list_lenght = len(number_list)\n",
        "  if (list_lenght) == 0:\n",
        "    return []\n",
        "  else:\n",
        "    return [x - number for x in number_list]"
      ],
      "metadata": {
        "id": "AsyPbm8uWVu0"
      },
      "execution_count": 4,
      "outputs": []
    },
    {
      "cell_type": "code",
      "source": [
        "# test cases\n",
        "import unittest\n",
        "\n",
        "class TestSubctractNumberFromList(unittest.TestCase):\n",
        "  def test_empty_list(self):\n",
        "    self.assertEqual(subtract_number_from_list(1,[]),[])\n",
        "\n",
        "  def test_single_element(self):\n",
        "    self.assertEqual(subtract_number_from_list(1,[5]), [4])\n",
        "\n",
        "  def test_negative_numbers(self):\n",
        "    self.assertEqual(subtract_number_from_list(1,[-1, -2, -3, -4, -5]), [-2, -3, -4, -5, -6])\n",
        "\n",
        "  def test_mixed_numbers(self):\n",
        "    self.assertEqual(subtract_number_from_list(1,[-1, 0, 1]), [-2, -1, 0])\n",
        "\n",
        "  def test_float_numbers(self):\n",
        "    self.assertEqual(subtract_number_from_list(1,[1.5, 2.5, 3.5]), [0.5, 1.5, 2.5])\n",
        "\n",
        "if __name__ == '__main__':\n",
        "    unittest.main(argv=[''], exit=False)"
      ],
      "metadata": {
        "colab": {
          "base_uri": "https://localhost:8080/"
        },
        "id": "VC85JBdoWvYw",
        "outputId": "c8ccbacd-b074-4a92-96b3-1d7aff639656"
      },
      "execution_count": 5,
      "outputs": [
        {
          "output_type": "stream",
          "name": "stderr",
          "text": [
            "...........\n",
            "----------------------------------------------------------------------\n",
            "Ran 11 tests in 0.024s\n",
            "\n",
            "OK\n"
          ]
        }
      ]
    },
    {
      "cell_type": "code",
      "source": [
        "# square numbers function\n",
        "def square_numbers(number_list):\n",
        "  list_lenght = len(number_list)\n",
        "  if (list_lenght) == 0:\n",
        "    return []\n",
        "  else:\n",
        "    return [x ** 2 for x in number_list]"
      ],
      "metadata": {
        "id": "0SrUtZhXc1i-"
      },
      "execution_count": 6,
      "outputs": []
    },
    {
      "cell_type": "code",
      "source": [
        "import math\n",
        "\n",
        "# calculate standard deviation function\n",
        "def calculate_standard_deviation(number_list):\n",
        "  list_lenght = len(number_list)\n",
        "  if (list_lenght) == 0:\n",
        "    return 0\n",
        "  else:\n",
        "    mean = calculate_mean(number_list)\n",
        "    list_subtracted_by_mean = subtract_number_from_list(mean, number_list)\n",
        "    list_square = square_numbers(list_subtracted_by_mean)\n",
        "    square_mean = calculate_mean(list_square)\n",
        "    square_root = math.sqrt(square_mean)\n",
        "    return square_root"
      ],
      "metadata": {
        "id": "jRlOJB9ae0FA"
      },
      "execution_count": 1,
      "outputs": []
    },
    {
      "cell_type": "markdown",
      "source": [],
      "metadata": {
        "id": "mvbKM2xvfDq7"
      }
    },
    {
      "cell_type": "code",
      "source": [
        "# test cases\n",
        "class TestCalculateStandardDeviation(unittest.TestCase):\n",
        "    def test_empty_list(self):\n",
        "        self.assertEqual(calculate_standard_deviation([]), 0)\n",
        "\n",
        "    def test_positive_numbers(self):\n",
        "        self.assertEqual(calculate_standard_deviation([2, 4, 4, 4, 5, 5, 7, 9]), 2)\n",
        "\n",
        "    def test_negative_numbers(self):\n",
        "        self.assertAlmostEqual(calculate_standard_deviation([-2, -4, -4, -4, -5, -5, -7, -9]), 2)\n",
        "\n",
        "    def test_mixed_numbers(self):\n",
        "        self.assertAlmostEqual(calculate_standard_deviation([-2, 4, -4, 4, 5.5, -5, 5.5, -7, -9]), 5.705139008920915)\n",
        "\n",
        "    def test_single_number(self):\n",
        "        self.assertEqual(calculate_standard_deviation([5]), 0)\n",
        "\n",
        "    def test_repeated_numbers(self):\n",
        "        self.assertEqual(calculate_standard_deviation([2, 2, 2, 2]), 0)\n",
        "\n",
        "    def test_large_number_of_elements(self):\n",
        "        self.assertAlmostEqual(calculate_standard_deviation(list(range(1, 1001))), 288.67499025753324)\n",
        "\n",
        "    def test_identical_numbers(self):\n",
        "        self.assertEqual(calculate_standard_deviation([1, 1, 1, 1, 1]), 0)\n",
        "\n",
        "    def test_mixed_types(self):\n",
        "        self.assertAlmostEqual(calculate_standard_deviation([1, 2.5, -3, 4.2, 5]), 3.165122430491434)\n",
        "\n",
        "if __name__ == '__main__':\n",
        "    unittest.main(argv=[''], exit=False)"
      ],
      "metadata": {
        "colab": {
          "base_uri": "https://localhost:8080/"
        },
        "id": "lVogJSemgp2_",
        "outputId": "fa0d7ead-3b03-43ff-bbeb-68c8061f358a"
      },
      "execution_count": 14,
      "outputs": [
        {
          "output_type": "stream",
          "name": "stderr",
          "text": [
            ".........FF.........\n",
            "======================================================================\n",
            "FAIL: test_mixed_numbers (__main__.TestCalculateStandardDeviation)\n",
            "----------------------------------------------------------------------\n",
            "Traceback (most recent call last):\n",
            "  File \"<ipython-input-14-e2949fbd44ba>\", line 13, in test_mixed_numbers\n",
            "    self.assertAlmostEqual(calculate_standard_deviation([-2, 4, -4, 4, 5.5, -5, 5.5, -7, -9]), 5.705139008920915)\n",
            "AssertionError: 5.3788566410931695 != 5.705139008920915 within 7 places (0.3262823678277451 difference)\n",
            "\n",
            "======================================================================\n",
            "FAIL: test_mixed_types (__main__.TestCalculateStandardDeviation)\n",
            "----------------------------------------------------------------------\n",
            "Traceback (most recent call last):\n",
            "  File \"<ipython-input-14-e2949fbd44ba>\", line 28, in test_mixed_types\n",
            "    self.assertAlmostEqual(calculate_standard_deviation([1, 2.5, -3, 4.2, 5]), 3.165122430491434)\n",
            "AssertionError: 2.8309715646752793 != 3.165122430491434 within 7 places (0.3341508658161545 difference)\n",
            "\n",
            "----------------------------------------------------------------------\n",
            "Ran 20 tests in 0.029s\n",
            "\n",
            "FAILED (failures=2)\n"
          ]
        }
      ]
    },
    {
      "cell_type": "code",
      "source": [
        "# confirm test cases results\n",
        "import statistics\n",
        "\n",
        "mixed_numbers = [-2, 4, -4, 4, 5.5, -5, 5.5, -7, -9]\n",
        "mixed_types = [1, 2.5, -3, 4.2, 5]\n",
        "\n",
        "# Calculate standard deviation using statistics module\n",
        "std_dev_mixed_numbers = statistics.stdev(mixed_numbers)\n",
        "std_dev_mixed_types = statistics.stdev(mixed_types)\n",
        "\n",
        "print(\"Expected standard deviation for test_mixed_numbers:\", std_dev_mixed_numbers)\n",
        "print(\"Expected standard deviation for test_mixed_types:\", std_dev_mixed_types)"
      ],
      "metadata": {
        "colab": {
          "base_uri": "https://localhost:8080/"
        },
        "id": "Ce9aanD8iLXR",
        "outputId": "72c6ced9-3f81-4e4b-f80c-531f80b8158c"
      },
      "execution_count": 13,
      "outputs": [
        {
          "output_type": "stream",
          "name": "stdout",
          "text": [
            "Expected standard deviation for test_mixed_numbers: 5.705139008920915\n",
            "Expected standard deviation for test_mixed_types: 3.165122430491434\n",
            "result:  2.0\n"
          ]
        }
      ]
    }
  ]
}